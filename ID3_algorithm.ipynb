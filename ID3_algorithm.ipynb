{
  "nbformat": 4,
  "nbformat_minor": 0,
  "metadata": {
    "colab": {
      "provenance": [],
      "authorship_tag": "ABX9TyMcr7kgsfcRAgfBIdeeS+G7",
      "include_colab_link": true
    },
    "kernelspec": {
      "name": "python3",
      "display_name": "Python 3"
    },
    "language_info": {
      "name": "python"
    }
  },
  "cells": [
    {
      "cell_type": "markdown",
      "metadata": {
        "id": "view-in-github",
        "colab_type": "text"
      },
      "source": [
        "<a href=\"https://colab.research.google.com/github/Moksha-nagraj/Marvel_tasks_lvl2/blob/main/ID3_algorithm.ipynb\" target=\"_parent\"><img src=\"https://colab.research.google.com/assets/colab-badge.svg\" alt=\"Open In Colab\"/></a>"
      ]
    },
    {
      "cell_type": "markdown",
      "source": [
        "The **ID3 algorithm** is a popular decision tree algorithm used in machine learning.\n",
        "\n",
        "**ID3 algorithm**, stands for *Iterative Dichotomiser 3*, is a classification algorithm that follows a greedy approach of building a decision tree by selecting a best attribute that yields maximum Information Gain (IG) or minimum Entropy (H)."
      ],
      "metadata": {
        "id": "Me5Lx_vy9mHo"
      }
    },
    {
      "cell_type": "markdown",
      "source": [
        "#### 1.Import necessary py libraries and load the dataset"
      ],
      "metadata": {
        "id": "erSqkpp7-a_W"
      }
    },
    {
      "cell_type": "code",
      "execution_count": null,
      "metadata": {
        "colab": {
          "base_uri": "https://localhost:8080/",
          "height": 206
        },
        "id": "18dnw1Dp6ac0",
        "outputId": "56fc79ac-ccaa-4fa3-cf4f-a7ddaba94647"
      },
      "outputs": [
        {
          "output_type": "execute_result",
          "data": {
            "text/plain": [
              "    Outlook Temperature Humidity    Wind Play Tennis\n",
              "0     Sunny         Hot     High    Weak          No\n",
              "1     Sunny         Hot     High  Strong          No\n",
              "2  Overcast         Hot     High    Weak         Yes\n",
              "3      Rain        Mild     High    Weak         Yes\n",
              "4      Rain        Cool   Normal    Weak         Yes"
            ],
            "text/html": [
              "\n",
              "  <div id=\"df-b37ea958-9a08-4d22-9133-e8af44d81c72\" class=\"colab-df-container\">\n",
              "    <div>\n",
              "<style scoped>\n",
              "    .dataframe tbody tr th:only-of-type {\n",
              "        vertical-align: middle;\n",
              "    }\n",
              "\n",
              "    .dataframe tbody tr th {\n",
              "        vertical-align: top;\n",
              "    }\n",
              "\n",
              "    .dataframe thead th {\n",
              "        text-align: right;\n",
              "    }\n",
              "</style>\n",
              "<table border=\"1\" class=\"dataframe\">\n",
              "  <thead>\n",
              "    <tr style=\"text-align: right;\">\n",
              "      <th></th>\n",
              "      <th>Outlook</th>\n",
              "      <th>Temperature</th>\n",
              "      <th>Humidity</th>\n",
              "      <th>Wind</th>\n",
              "      <th>Play Tennis</th>\n",
              "    </tr>\n",
              "  </thead>\n",
              "  <tbody>\n",
              "    <tr>\n",
              "      <th>0</th>\n",
              "      <td>Sunny</td>\n",
              "      <td>Hot</td>\n",
              "      <td>High</td>\n",
              "      <td>Weak</td>\n",
              "      <td>No</td>\n",
              "    </tr>\n",
              "    <tr>\n",
              "      <th>1</th>\n",
              "      <td>Sunny</td>\n",
              "      <td>Hot</td>\n",
              "      <td>High</td>\n",
              "      <td>Strong</td>\n",
              "      <td>No</td>\n",
              "    </tr>\n",
              "    <tr>\n",
              "      <th>2</th>\n",
              "      <td>Overcast</td>\n",
              "      <td>Hot</td>\n",
              "      <td>High</td>\n",
              "      <td>Weak</td>\n",
              "      <td>Yes</td>\n",
              "    </tr>\n",
              "    <tr>\n",
              "      <th>3</th>\n",
              "      <td>Rain</td>\n",
              "      <td>Mild</td>\n",
              "      <td>High</td>\n",
              "      <td>Weak</td>\n",
              "      <td>Yes</td>\n",
              "    </tr>\n",
              "    <tr>\n",
              "      <th>4</th>\n",
              "      <td>Rain</td>\n",
              "      <td>Cool</td>\n",
              "      <td>Normal</td>\n",
              "      <td>Weak</td>\n",
              "      <td>Yes</td>\n",
              "    </tr>\n",
              "  </tbody>\n",
              "</table>\n",
              "</div>\n",
              "    <div class=\"colab-df-buttons\">\n",
              "\n",
              "  <div class=\"colab-df-container\">\n",
              "    <button class=\"colab-df-convert\" onclick=\"convertToInteractive('df-b37ea958-9a08-4d22-9133-e8af44d81c72')\"\n",
              "            title=\"Convert this dataframe to an interactive table.\"\n",
              "            style=\"display:none;\">\n",
              "\n",
              "  <svg xmlns=\"http://www.w3.org/2000/svg\" height=\"24px\" viewBox=\"0 -960 960 960\">\n",
              "    <path d=\"M120-120v-720h720v720H120Zm60-500h600v-160H180v160Zm220 220h160v-160H400v160Zm0 220h160v-160H400v160ZM180-400h160v-160H180v160Zm440 0h160v-160H620v160ZM180-180h160v-160H180v160Zm440 0h160v-160H620v160Z\"/>\n",
              "  </svg>\n",
              "    </button>\n",
              "\n",
              "  <style>\n",
              "    .colab-df-container {\n",
              "      display:flex;\n",
              "      gap: 12px;\n",
              "    }\n",
              "\n",
              "    .colab-df-convert {\n",
              "      background-color: #E8F0FE;\n",
              "      border: none;\n",
              "      border-radius: 50%;\n",
              "      cursor: pointer;\n",
              "      display: none;\n",
              "      fill: #1967D2;\n",
              "      height: 32px;\n",
              "      padding: 0 0 0 0;\n",
              "      width: 32px;\n",
              "    }\n",
              "\n",
              "    .colab-df-convert:hover {\n",
              "      background-color: #E2EBFA;\n",
              "      box-shadow: 0px 1px 2px rgba(60, 64, 67, 0.3), 0px 1px 3px 1px rgba(60, 64, 67, 0.15);\n",
              "      fill: #174EA6;\n",
              "    }\n",
              "\n",
              "    .colab-df-buttons div {\n",
              "      margin-bottom: 4px;\n",
              "    }\n",
              "\n",
              "    [theme=dark] .colab-df-convert {\n",
              "      background-color: #3B4455;\n",
              "      fill: #D2E3FC;\n",
              "    }\n",
              "\n",
              "    [theme=dark] .colab-df-convert:hover {\n",
              "      background-color: #434B5C;\n",
              "      box-shadow: 0px 1px 3px 1px rgba(0, 0, 0, 0.15);\n",
              "      filter: drop-shadow(0px 1px 2px rgba(0, 0, 0, 0.3));\n",
              "      fill: #FFFFFF;\n",
              "    }\n",
              "  </style>\n",
              "\n",
              "    <script>\n",
              "      const buttonEl =\n",
              "        document.querySelector('#df-b37ea958-9a08-4d22-9133-e8af44d81c72 button.colab-df-convert');\n",
              "      buttonEl.style.display =\n",
              "        google.colab.kernel.accessAllowed ? 'block' : 'none';\n",
              "\n",
              "      async function convertToInteractive(key) {\n",
              "        const element = document.querySelector('#df-b37ea958-9a08-4d22-9133-e8af44d81c72');\n",
              "        const dataTable =\n",
              "          await google.colab.kernel.invokeFunction('convertToInteractive',\n",
              "                                                    [key], {});\n",
              "        if (!dataTable) return;\n",
              "\n",
              "        const docLinkHtml = 'Like what you see? Visit the ' +\n",
              "          '<a target=\"_blank\" href=https://colab.research.google.com/notebooks/data_table.ipynb>data table notebook</a>'\n",
              "          + ' to learn more about interactive tables.';\n",
              "        element.innerHTML = '';\n",
              "        dataTable['output_type'] = 'display_data';\n",
              "        await google.colab.output.renderOutput(dataTable, element);\n",
              "        const docLink = document.createElement('div');\n",
              "        docLink.innerHTML = docLinkHtml;\n",
              "        element.appendChild(docLink);\n",
              "      }\n",
              "    </script>\n",
              "  </div>\n",
              "\n",
              "\n",
              "<div id=\"df-1680a37b-e656-482d-be1c-3fcf36853e67\">\n",
              "  <button class=\"colab-df-quickchart\" onclick=\"quickchart('df-1680a37b-e656-482d-be1c-3fcf36853e67')\"\n",
              "            title=\"Suggest charts\"\n",
              "            style=\"display:none;\">\n",
              "\n",
              "<svg xmlns=\"http://www.w3.org/2000/svg\" height=\"24px\"viewBox=\"0 0 24 24\"\n",
              "     width=\"24px\">\n",
              "    <g>\n",
              "        <path d=\"M19 3H5c-1.1 0-2 .9-2 2v14c0 1.1.9 2 2 2h14c1.1 0 2-.9 2-2V5c0-1.1-.9-2-2-2zM9 17H7v-7h2v7zm4 0h-2V7h2v10zm4 0h-2v-4h2v4z\"/>\n",
              "    </g>\n",
              "</svg>\n",
              "  </button>\n",
              "\n",
              "<style>\n",
              "  .colab-df-quickchart {\n",
              "      --bg-color: #E8F0FE;\n",
              "      --fill-color: #1967D2;\n",
              "      --hover-bg-color: #E2EBFA;\n",
              "      --hover-fill-color: #174EA6;\n",
              "      --disabled-fill-color: #AAA;\n",
              "      --disabled-bg-color: #DDD;\n",
              "  }\n",
              "\n",
              "  [theme=dark] .colab-df-quickchart {\n",
              "      --bg-color: #3B4455;\n",
              "      --fill-color: #D2E3FC;\n",
              "      --hover-bg-color: #434B5C;\n",
              "      --hover-fill-color: #FFFFFF;\n",
              "      --disabled-bg-color: #3B4455;\n",
              "      --disabled-fill-color: #666;\n",
              "  }\n",
              "\n",
              "  .colab-df-quickchart {\n",
              "    background-color: var(--bg-color);\n",
              "    border: none;\n",
              "    border-radius: 50%;\n",
              "    cursor: pointer;\n",
              "    display: none;\n",
              "    fill: var(--fill-color);\n",
              "    height: 32px;\n",
              "    padding: 0;\n",
              "    width: 32px;\n",
              "  }\n",
              "\n",
              "  .colab-df-quickchart:hover {\n",
              "    background-color: var(--hover-bg-color);\n",
              "    box-shadow: 0 1px 2px rgba(60, 64, 67, 0.3), 0 1px 3px 1px rgba(60, 64, 67, 0.15);\n",
              "    fill: var(--button-hover-fill-color);\n",
              "  }\n",
              "\n",
              "  .colab-df-quickchart-complete:disabled,\n",
              "  .colab-df-quickchart-complete:disabled:hover {\n",
              "    background-color: var(--disabled-bg-color);\n",
              "    fill: var(--disabled-fill-color);\n",
              "    box-shadow: none;\n",
              "  }\n",
              "\n",
              "  .colab-df-spinner {\n",
              "    border: 2px solid var(--fill-color);\n",
              "    border-color: transparent;\n",
              "    border-bottom-color: var(--fill-color);\n",
              "    animation:\n",
              "      spin 1s steps(1) infinite;\n",
              "  }\n",
              "\n",
              "  @keyframes spin {\n",
              "    0% {\n",
              "      border-color: transparent;\n",
              "      border-bottom-color: var(--fill-color);\n",
              "      border-left-color: var(--fill-color);\n",
              "    }\n",
              "    20% {\n",
              "      border-color: transparent;\n",
              "      border-left-color: var(--fill-color);\n",
              "      border-top-color: var(--fill-color);\n",
              "    }\n",
              "    30% {\n",
              "      border-color: transparent;\n",
              "      border-left-color: var(--fill-color);\n",
              "      border-top-color: var(--fill-color);\n",
              "      border-right-color: var(--fill-color);\n",
              "    }\n",
              "    40% {\n",
              "      border-color: transparent;\n",
              "      border-right-color: var(--fill-color);\n",
              "      border-top-color: var(--fill-color);\n",
              "    }\n",
              "    60% {\n",
              "      border-color: transparent;\n",
              "      border-right-color: var(--fill-color);\n",
              "    }\n",
              "    80% {\n",
              "      border-color: transparent;\n",
              "      border-right-color: var(--fill-color);\n",
              "      border-bottom-color: var(--fill-color);\n",
              "    }\n",
              "    90% {\n",
              "      border-color: transparent;\n",
              "      border-bottom-color: var(--fill-color);\n",
              "    }\n",
              "  }\n",
              "</style>\n",
              "\n",
              "  <script>\n",
              "    async function quickchart(key) {\n",
              "      const quickchartButtonEl =\n",
              "        document.querySelector('#' + key + ' button');\n",
              "      quickchartButtonEl.disabled = true;  // To prevent multiple clicks.\n",
              "      quickchartButtonEl.classList.add('colab-df-spinner');\n",
              "      try {\n",
              "        const charts = await google.colab.kernel.invokeFunction(\n",
              "            'suggestCharts', [key], {});\n",
              "      } catch (error) {\n",
              "        console.error('Error during call to suggestCharts:', error);\n",
              "      }\n",
              "      quickchartButtonEl.classList.remove('colab-df-spinner');\n",
              "      quickchartButtonEl.classList.add('colab-df-quickchart-complete');\n",
              "    }\n",
              "    (() => {\n",
              "      let quickchartButtonEl =\n",
              "        document.querySelector('#df-1680a37b-e656-482d-be1c-3fcf36853e67 button');\n",
              "      quickchartButtonEl.style.display =\n",
              "        google.colab.kernel.accessAllowed ? 'block' : 'none';\n",
              "    })();\n",
              "  </script>\n",
              "</div>\n",
              "\n",
              "    </div>\n",
              "  </div>\n"
            ],
            "application/vnd.google.colaboratory.intrinsic+json": {
              "type": "dataframe",
              "variable_name": "train_data_m",
              "summary": "{\n  \"name\": \"train_data_m\",\n  \"rows\": 14,\n  \"fields\": [\n    {\n      \"column\": \"Outlook\",\n      \"properties\": {\n        \"dtype\": \"category\",\n        \"num_unique_values\": 3,\n        \"samples\": [\n          \"Sunny\",\n          \"Overcast\",\n          \"Rain\"\n        ],\n        \"semantic_type\": \"\",\n        \"description\": \"\"\n      }\n    },\n    {\n      \"column\": \"Temperature\",\n      \"properties\": {\n        \"dtype\": \"category\",\n        \"num_unique_values\": 3,\n        \"samples\": [\n          \"Hot\",\n          \"Mild\",\n          \"Cool\"\n        ],\n        \"semantic_type\": \"\",\n        \"description\": \"\"\n      }\n    },\n    {\n      \"column\": \"Humidity\",\n      \"properties\": {\n        \"dtype\": \"category\",\n        \"num_unique_values\": 2,\n        \"samples\": [\n          \"Normal\",\n          \"High\"\n        ],\n        \"semantic_type\": \"\",\n        \"description\": \"\"\n      }\n    },\n    {\n      \"column\": \"Wind\",\n      \"properties\": {\n        \"dtype\": \"category\",\n        \"num_unique_values\": 2,\n        \"samples\": [\n          \"Strong\",\n          \"Weak\"\n        ],\n        \"semantic_type\": \"\",\n        \"description\": \"\"\n      }\n    },\n    {\n      \"column\": \"Play Tennis\",\n      \"properties\": {\n        \"dtype\": \"category\",\n        \"num_unique_values\": 2,\n        \"samples\": [\n          \"Yes\",\n          \"No\"\n        ],\n        \"semantic_type\": \"\",\n        \"description\": \"\"\n      }\n    }\n  ]\n}"
            }
          },
          "metadata": {},
          "execution_count": 13
        }
      ],
      "source": [
        "import pandas as pd\n",
        "import numpy as np\n",
        "\n",
        "# Loading the dataset\n",
        "train_data_m = pd.read_csv(\"/content/PlayTennis.csv\")\n",
        "train_data_m.head()"
      ]
    },
    {
      "cell_type": "markdown",
      "source": [
        "#### 2.Calculate Entropy for entire dataset"
      ],
      "metadata": {
        "id": "_4syK3CS-0QK"
      }
    },
    {
      "cell_type": "code",
      "source": [
        "def calc_total_entropy(train_data, label, class_list):\n",
        "    total_row = train_data.shape[0]  # total size of the dataset\n",
        "    total_entr = 0\n",
        "\n",
        "    for c in class_list:  # for each class in the label\n",
        "        total_class_count = train_data[train_data[label] == c].shape[0]  # number of the class\n",
        "        if total_class_count == 0:\n",
        "            continue\n",
        "        total_class_entr = - (total_class_count / total_row) * np.log2(total_class_count / total_row)  # entropy of the class\n",
        "        total_entr += total_class_entr  # adding the class entropy to the total entropy of the dataset\n",
        "\n",
        "    return total_entr"
      ],
      "metadata": {
        "id": "ARai3bMb78GU"
      },
      "execution_count": null,
      "outputs": []
    },
    {
      "cell_type": "markdown",
      "source": [
        "#### 3.Calculate Entropy of all Features"
      ],
      "metadata": {
        "id": "vaN1rz6y_LYk"
      }
    },
    {
      "cell_type": "code",
      "source": [
        "def calc_entropy(feature_value_data, label, class_list):\n",
        "    class_count = feature_value_data.shape[0]\n",
        "    entropy = 0\n",
        "\n",
        "    for c in class_list:\n",
        "        label_class_count = feature_value_data[feature_value_data[label] == c].shape[0]  # row count of class c\n",
        "        if label_class_count == 0:\n",
        "            continue\n",
        "        probability_class = label_class_count / class_count  # probability of the class\n",
        "        entropy_class = - probability_class * np.log2(probability_class)  # entropy\n",
        "        entropy += entropy_class\n",
        "    return entropy"
      ],
      "metadata": {
        "id": "1nibT_138Coq"
      },
      "execution_count": null,
      "outputs": []
    },
    {
      "cell_type": "markdown",
      "source": [
        "#### 4.Calculate Information Gain for a feature"
      ],
      "metadata": {
        "id": "f-to5fm9_h71"
      }
    },
    {
      "cell_type": "code",
      "source": [
        "def calc_info_gain(feature_name, train_data, label, class_list):\n",
        "    feature_value_list = train_data[feature_name].unique()  # unique values of the feature\n",
        "    total_row = train_data.shape[0]\n",
        "    feature_info = 0.0\n",
        "\n",
        "    for feature_value in feature_value_list:\n",
        "        feature_value_data = train_data[train_data[feature_name] == feature_value]  # filtering rows with that feature_value\n",
        "        feature_value_count = feature_value_data.shape[0]\n",
        "        feature_value_entropy = calc_entropy(feature_value_data, label, class_list)  # calculating entropy for the feature value\n",
        "        feature_value_probability = feature_value_count / total_row\n",
        "        feature_info += feature_value_probability * feature_value_entropy  # calculating information of the feature value\n",
        "\n",
        "    total_entropy = calc_total_entropy(train_data, label, class_list)\n",
        "    info_gain = total_entropy - feature_info\n",
        "    print(f\"Info gain for {feature_name}: {info_gain}\")\n",
        "    return info_gain\n"
      ],
      "metadata": {
        "id": "D8ucy9W28J7e"
      },
      "execution_count": null,
      "outputs": []
    },
    {
      "cell_type": "markdown",
      "source": [
        "#### 5.Find the most informative feature\n",
        "\n",
        "Lesser the Entropy, higher the information gain, higher the homogenity of nodes."
      ],
      "metadata": {
        "id": "kk3iuGGH_5F1"
      }
    },
    {
      "cell_type": "code",
      "source": [
        "def find_most_informative_feature(train_data, label, class_list):\n",
        "    feature_list = train_data.columns.drop(label)  # finding the feature names in the dataset\n",
        "    max_info_gain = -1\n",
        "    max_info_feature = None\n",
        "\n",
        "    for feature in feature_list:  # for each feature in the dataset\n",
        "        feature_info_gain = calc_info_gain(feature, train_data, label, class_list)\n",
        "        if max_info_gain < feature_info_gain:  # selecting feature name with highest information gain\n",
        "            max_info_gain = feature_info_gain\n",
        "            max_info_feature = feature\n",
        "\n",
        "    print(f\"Most informative feature: {max_info_feature}\")\n",
        "    return max_info_feature\n"
      ],
      "metadata": {
        "id": "oAo_A00E8Onq"
      },
      "execution_count": null,
      "outputs": []
    },
    {
      "cell_type": "markdown",
      "source": [
        "#### 6.Generate the root node (most informative feature)"
      ],
      "metadata": {
        "id": "rlWcSTkMAtA2"
      }
    },
    {
      "cell_type": "code",
      "source": [
        "def generate_sub_tree(feature_name, train_data, label, class_list):\n",
        "    feature_value_count_dict = train_data[feature_name].value_counts(sort=False)  # dictionary of the count of unique feature value\n",
        "    tree = {}  # sub tree or node\n",
        "\n",
        "    for feature_value, count in feature_value_count_dict.items():\n",
        "        feature_value_data = train_data[train_data[feature_name] == feature_value]  # dataset with only feature_name = feature_value\n",
        "\n",
        "        assigned_to_node = False  # flag for tracking feature_value is pure class or not\n",
        "        for c in class_list:  # for each class\n",
        "            class_count = feature_value_data[feature_value_data[label] == c].shape[0]  # count of class c\n",
        "\n",
        "            if class_count == count:  # count of (feature_value = count) of class (pure class)\n",
        "                tree[feature_value] = c  # adding node to the tree\n",
        "                assigned_to_node = True\n",
        "        if not assigned_to_node:  # not pure class\n",
        "            tree[feature_value] = \"?\"  # as feature_value is not a pure class, it should be expanded further,\n",
        "                                      # so the branch is marking with ?\n",
        "\n",
        "    print(f\"Generated sub-tree for {feature_name}: {tree}\")\n",
        "    return tree\n"
      ],
      "metadata": {
        "id": "Hvezr7Jr8TAr"
      },
      "execution_count": null,
      "outputs": []
    },
    {
      "cell_type": "markdown",
      "source": [
        "#### 7. Generate Tree recursively"
      ],
      "metadata": {
        "id": "hcbkjqFnBD8C"
      }
    },
    {
      "cell_type": "code",
      "source": [
        "def make_tree(root, prev_feature_value, train_data, label, class_list):\n",
        "    if train_data.shape[0] != 0:  # if dataset is not empty after updating\n",
        "        max_info_feature = find_most_informative_feature(train_data, label, class_list)  # most informative feature\n",
        "        if max_info_feature is None:\n",
        "            return\n",
        "        tree = generate_sub_tree(max_info_feature, train_data, label, class_list)  # getting tree node and updated dataset\n",
        "\n",
        "        if prev_feature_value is not None:  # add to intermediate node of the tree\n",
        "            root[prev_feature_value] = {max_info_feature: tree}\n",
        "        else:  # add to root of the tree\n",
        "            root[max_info_feature] = tree\n",
        "\n",
        "        for feature_value, sub_tree in tree.items():\n",
        "            if sub_tree == \"?\":  # if it is expandable\n",
        "                feature_value_data = train_data[train_data[max_info_feature] == feature_value]  # using the updated dataset\n",
        "                make_tree(tree, feature_value, feature_value_data, label, class_list)  # recursive call with updated dataset\n"
      ],
      "metadata": {
        "id": "M-PYYWdv8WVM"
      },
      "execution_count": null,
      "outputs": []
    },
    {
      "cell_type": "markdown",
      "source": [
        "#### ID3 algorithm"
      ],
      "metadata": {
        "id": "mLt3cU0pBZT_"
      }
    },
    {
      "cell_type": "code",
      "source": [
        "def id3(train_data_m, label):\n",
        "    train_data = train_data_m.copy()  # getting a copy of the dataset\n",
        "    tree = {}  # tree which will be updated\n",
        "    class_list = train_data[label].unique()  # getting unique classes of the label\n",
        "    make_tree(tree, None, train_data, label, class_list)  # start calling recursion\n",
        "    print(\"Generated tree:\", tree)\n",
        "    return tree"
      ],
      "metadata": {
        "id": "MY-556Cs8bok"
      },
      "execution_count": null,
      "outputs": []
    },
    {
      "cell_type": "markdown",
      "source": [
        "#### 8. Predicting from the tree"
      ],
      "metadata": {
        "id": "zBU2ZZwxBnsa"
      }
    },
    {
      "cell_type": "code",
      "source": [
        "def predict(tree, instance):\n",
        "    if not isinstance(tree, dict):  # if it is leaf node\n",
        "        return tree  # return the value\n",
        "    elif not tree:  # check if the dictionary is empty\n",
        "        print(\"Empty tree encountered!\")\n",
        "        return None\n",
        "    else:\n",
        "        root_node = next(iter(tree))  # getting first key/feature name of the dictionary\n",
        "        feature_value = instance[root_node]  # value of the feature\n",
        "        if feature_value in tree[root_node]:  # checking the feature value in current tree node\n",
        "            return predict(tree[root_node][feature_value], instance)  # go to next feature\n",
        "        else:\n",
        "            return None\n"
      ],
      "metadata": {
        "id": "eaPiCOCb8dSP"
      },
      "execution_count": null,
      "outputs": []
    },
    {
      "cell_type": "markdown",
      "source": [
        "#### 9. Evaluate the model and finding accuracy"
      ],
      "metadata": {
        "id": "5ewxzS_UB0JU"
      }
    },
    {
      "cell_type": "code",
      "source": [
        "def evaluate(tree, test_data_m, label):\n",
        "    correct_predict = 0\n",
        "    wrong_predict = 0\n",
        "    for index, row in test_data_m.iterrows():  # for each row in the dataset\n",
        "        result = predict(tree, test_data_m.iloc[index])  # predict the row\n",
        "        if result == test_data_m[label].iloc[index]:  # predicted value and expected value is same or not\n",
        "            correct_predict += 1  # increase correct count\n",
        "        else:\n",
        "            wrong_predict += 1  # increase incorrect count\n",
        "    accuracy = correct_predict / (correct_predict + wrong_predict)  # calculating accuracy\n",
        "    return accuracy"
      ],
      "metadata": {
        "id": "TUcKgssB8hfI"
      },
      "execution_count": null,
      "outputs": []
    },
    {
      "cell_type": "code",
      "source": [
        "tree = id3(train_data_m, 'Play Tennis')"
      ],
      "metadata": {
        "colab": {
          "base_uri": "https://localhost:8080/"
        },
        "id": "oXRCSz4v8nCx",
        "outputId": "ac15a4ab-80db-400e-d4d1-adcd260399ee"
      },
      "execution_count": null,
      "outputs": [
        {
          "output_type": "stream",
          "name": "stdout",
          "text": [
            "Info gain for Outlook: 0.24674981977443933\n",
            "Info gain for Temperature: 0.02922256565895487\n",
            "Info gain for Humidity: 0.15183550136234159\n",
            "Info gain for Wind: 0.04812703040826949\n",
            "Most informative feature: Outlook\n",
            "Generated sub-tree for Outlook: {'Sunny': '?', 'Overcast': 'Yes', 'Rain': '?'}\n",
            "Info gain for Outlook: 0.0\n",
            "Info gain for Temperature: 0.5709505944546686\n",
            "Info gain for Humidity: 0.9709505944546686\n",
            "Info gain for Wind: 0.01997309402197489\n",
            "Most informative feature: Humidity\n",
            "Generated sub-tree for Humidity: {'High': 'No', 'Normal': 'Yes'}\n",
            "Info gain for Outlook: 0.0\n",
            "Info gain for Temperature: 0.01997309402197489\n",
            "Info gain for Humidity: 0.01997309402197489\n",
            "Info gain for Wind: 0.9709505944546686\n",
            "Most informative feature: Wind\n",
            "Generated sub-tree for Wind: {'Weak': 'Yes', 'Strong': 'No'}\n",
            "Generated tree: {'Outlook': {'Sunny': {'Humidity': {'High': 'No', 'Normal': 'Yes'}}, 'Overcast': 'Yes', 'Rain': {'Wind': {'Weak': 'Yes', 'Strong': 'No'}}}}\n"
          ]
        }
      ]
    },
    {
      "cell_type": "code",
      "source": [
        "accuracy = evaluate(tree, test_data_m, 'Play Tennis')  # evaluating the test dataset\n",
        "print(f\"Accuracy: {accuracy}\")"
      ],
      "metadata": {
        "colab": {
          "base_uri": "https://localhost:8080/"
        },
        "id": "xqdR12S48x3d",
        "outputId": "918ec336-fba8-4482-cf0d-75c48ab0338b"
      },
      "execution_count": null,
      "outputs": [
        {
          "output_type": "stream",
          "name": "stdout",
          "text": [
            "Accuracy: 1.0\n"
          ]
        }
      ]
    }
  ]
}