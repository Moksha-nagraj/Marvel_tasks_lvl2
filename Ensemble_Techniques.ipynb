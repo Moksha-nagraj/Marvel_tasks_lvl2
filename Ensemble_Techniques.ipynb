{
  "nbformat": 4,
  "nbformat_minor": 0,
  "metadata": {
    "colab": {
      "provenance": [],
      "authorship_tag": "ABX9TyNwhLTn8/LZ5BuYSfcNEPDJ",
      "include_colab_link": true
    },
    "kernelspec": {
      "name": "python3",
      "display_name": "Python 3"
    },
    "language_info": {
      "name": "python"
    }
  },
  "cells": [
    {
      "cell_type": "markdown",
      "metadata": {
        "id": "view-in-github",
        "colab_type": "text"
      },
      "source": [
        "<a href=\"https://colab.research.google.com/github/Moksha-nagraj/Marvel_tasks_lvl2/blob/main/Ensemble_Techniques.ipynb\" target=\"_parent\"><img src=\"https://colab.research.google.com/assets/colab-badge.svg\" alt=\"Open In Colab\"/></a>"
      ]
    },
    {
      "cell_type": "markdown",
      "source": [
        "\n",
        "##**Ensemble Techniques**\n",
        "Ensemble techniques in machine learning involve combining multiple models to make predictions that are generally more accurate and robust than using individual models. These methods aim to reduce the variance, bias, or improve predictions by leveraging the strengths of various models."
      ],
      "metadata": {
        "id": "odF2Pocogdwu"
      }
    },
    {
      "cell_type": "code",
      "source": [
        "import pandas as pd\n",
        "import numpy as np\n",
        "from sklearn.ensemble import RandomForestClassifier, AdaBoostClassifier, GradientBoostingClassifier, VotingClassifier\n",
        "from sklearn.linear_model import LogisticRegression\n",
        "from sklearn.model_selection import train_test_split\n",
        "from sklearn.metrics import accuracy_score\n",
        "\n",
        "train = pd.read_csv('train.csv')\n",
        "test = pd.read_csv('test.csv')\n",
        "\n",
        "train['Age'].fillna(train['Age'].median(), inplace=True)\n",
        "test['Age'].fillna(test['Age'].median(), inplace=True)\n",
        "train['Embarked'].fillna(train['Embarked'].mode()[0], inplace=True)\n",
        "test['Fare'].fillna(test['Fare'].median(), inplace=True)\n",
        "\n",
        "train['Sex'] = train['Sex'].map({'male': 0, 'female': 1})\n",
        "test['Sex'] = test['Sex'].map({'male': 0, 'female': 1})\n",
        "\n",
        "train = pd.get_dummies(train, columns=['Embarked'], drop_first=True)\n",
        "test = pd.get_dummies(test, columns=['Embarked'], drop_first=True)\n",
        "\n",
        "train = train.drop(['PassengerId', 'Name', 'Ticket', 'Cabin'], axis=1)\n",
        "test = test.drop(['PassengerId', 'Name', 'Ticket', 'Cabin'], axis=1)\n",
        "\n",
        "X = train.drop('Survived', axis=1)\n",
        "y = train['Survived']\n",
        "\n",
        "X_train, X_val, y_train, y_val = train_test_split(X, y, test_size=0.2, random_state=42)\n",
        "\n",
        "rf = RandomForestClassifier(n_estimators=100, random_state=42)\n",
        "rf.fit(X_train, y_train)\n",
        "rf_pred = rf.predict(X_val)\n",
        "print(\"Random Forest Accuracy:\", accuracy_score(y_val, rf_pred))\n",
        "\n",
        "lr = LogisticRegression(max_iter=200, random_state=42)\n",
        "lr.fit(X_train, y_train)\n",
        "lr_pred = lr.predict(X_val)\n",
        "print(\"Logistic Regression Accuracy:\", accuracy_score(y_val, lr_pred))\n",
        "\n",
        "ada = AdaBoostClassifier(n_estimators=100, algorithm='SAMME', random_state=42)\n",
        "ada.fit(X_train, y_train)\n",
        "ada_pred = ada.predict(X_val)\n",
        "print(\"AdaBoost Accuracy:\", accuracy_score(y_val, ada_pred))\n",
        "\n",
        "gb = GradientBoostingClassifier(n_estimators=100, random_state=42)\n",
        "gb.fit(X_train, y_train)\n",
        "gb_pred = gb.predict(X_val)\n",
        "print(\"Gradient Boosting Accuracy:\", accuracy_score(y_val, gb_pred))\n",
        "\n",
        "ensemble = VotingClassifier(estimators=[('rf', rf), ('lr', lr), ('ada', ada), ('gb', gb)], voting='hard')\n",
        "ensemble.fit(X_train, y_train)\n",
        "ensemble_pred = ensemble.predict(X_val)\n",
        "print(\"Ensemble Model Accuracy:\", accuracy_score(y_val, ensemble_pred))"
      ],
      "metadata": {
        "colab": {
          "base_uri": "https://localhost:8080/"
        },
        "id": "ahSxodgdgKHn",
        "outputId": "2fd2bff6-e7a1-4dcc-ef19-a51c54b58700"
      },
      "execution_count": null,
      "outputs": [
        {
          "output_type": "stream",
          "name": "stdout",
          "text": [
            "Random Forest Accuracy: 0.7988826815642458\n",
            "Logistic Regression Accuracy: 0.8100558659217877\n",
            "AdaBoost Accuracy: 0.7932960893854749\n",
            "Gradient Boosting Accuracy: 0.8044692737430168\n",
            "Ensemble Model Accuracy: 0.8100558659217877\n"
          ]
        }
      ]
    }
  ]
}