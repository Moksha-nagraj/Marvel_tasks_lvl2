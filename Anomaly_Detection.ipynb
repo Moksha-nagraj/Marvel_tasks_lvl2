{
  "nbformat": 4,
  "nbformat_minor": 0,
  "metadata": {
    "colab": {
      "provenance": [],
      "authorship_tag": "ABX9TyNrptsKe7pxf+Fbd2wlb8WD",
      "include_colab_link": true
    },
    "kernelspec": {
      "name": "python3",
      "display_name": "Python 3"
    },
    "language_info": {
      "name": "python"
    }
  },
  "cells": [
    {
      "cell_type": "markdown",
      "metadata": {
        "id": "view-in-github",
        "colab_type": "text"
      },
      "source": [
        "<a href=\"https://colab.research.google.com/github/Moksha-nagraj/Marvel_tasks_lvl2/blob/main/Anomaly_Detection.ipynb\" target=\"_parent\"><img src=\"https://colab.research.google.com/assets/colab-badge.svg\" alt=\"Open In Colab\"/></a>"
      ]
    },
    {
      "cell_type": "markdown",
      "source": [
        "##**Anomaly Detection with Isolation Forest**<br>\n",
        "Anomaly Detection is a technique used to identify rare events or observations that differ significantly from the majority of data points. This approach is crucial in various applications such as fraud detection, fault detection in machinery, and identifying cyber threats."
      ],
      "metadata": {
        "id": "X5JwHKkgTYRQ"
      }
    },
    {
      "cell_type": "markdown",
      "source": [
        "Implementation Steps\n",
        "####**1. Load and Prepare Data:**<br>\n",
        "In this example, we use the Iris dataset, which contains multiple features. The dataset is split into training and testing sets to evaluate the model effectively."
      ],
      "metadata": {
        "id": "qpwbV9CdTict"
      }
    },
    {
      "cell_type": "code",
      "source": [
        "import numpy as np\n",
        "import matplotlib.pyplot as plt\n",
        "from sklearn.datasets import load_iris\n",
        "from sklearn.model_selection import train_test_split\n",
        "\n",
        "# Load Iris dataset\n",
        "data = load_iris()\n",
        "X, y = data.data, data.target\n",
        "\n",
        "# Split the dataset into training and testing sets (80% train, 20% test)\n",
        "X_train, X_test, y_train, y_test = train_test_split(X, y, test_size=0.2, random_state=42)\n"
      ],
      "metadata": {
        "id": "naXuiB1kT5Wd"
      },
      "execution_count": null,
      "outputs": []
    },
    {
      "cell_type": "markdown",
      "source": [
        "####**2. Model Creation:**<br>\n",
        "The Isolation Forest algorithm is initialized. The contamination parameter specifies the expected proportion of outliers in the dataset."
      ],
      "metadata": {
        "id": "odkjmKLdT7Sv"
      }
    },
    {
      "cell_type": "code",
      "source": [
        "from pyod.models.iforest import IForest\n",
        "\n",
        "# Create an instance of the Isolation Forest model\n",
        "clf = IForest(contamination=0.1, random_state=42)\n"
      ],
      "metadata": {
        "id": "dNhAyHlHUG2h"
      },
      "execution_count": null,
      "outputs": []
    },
    {
      "cell_type": "code",
      "source": [],
      "metadata": {
        "id": "CXxUcJUmVXAm"
      },
      "execution_count": null,
      "outputs": []
    },
    {
      "cell_type": "markdown",
      "source": [
        "####**3. Model Training:**<br>\n",
        "The model is trained on the training data. Isolation Forest builds multiple decision trees to isolate instances, where anomalies are expected to be isolated more easily than normal observations."
      ],
      "metadata": {
        "id": "F2qC9BuWUJYF"
      }
    },
    {
      "cell_type": "code",
      "source": [
        "# Train the model on the training data\n",
        "clf.fit(X_train)\n"
      ],
      "metadata": {
        "colab": {
          "base_uri": "https://localhost:8080/"
        },
        "id": "lZEMdOuKUU2A",
        "outputId": "85dd21e4-87a1-4be0-bda6-5140e0368419"
      },
      "execution_count": null,
      "outputs": [
        {
          "output_type": "execute_result",
          "data": {
            "text/plain": [
              "IForest(behaviour='old', bootstrap=False, contamination=0.1, max_features=1.0,\n",
              "    max_samples='auto', n_estimators=100, n_jobs=1, random_state=42,\n",
              "    verbose=0)"
            ]
          },
          "metadata": {},
          "execution_count": 12
        }
      ]
    },
    {
      "cell_type": "markdown",
      "source": [
        "####**4. Predict Anomaly Scores:**<br>\n",
        "After training, the model is used to predict anomaly scores on the test dataset. Higher scores indicate a greater likelihood of an instance being an outlier."
      ],
      "metadata": {
        "id": "L5ExmmDrUWMc"
      }
    },
    {
      "cell_type": "code",
      "source": [
        "# Predict the anomaly scores on the test set\n",
        "y_scores = clf.decision_function(X_test)\n"
      ],
      "metadata": {
        "id": "lzQAm8EnUgX9"
      },
      "execution_count": null,
      "outputs": []
    },
    {
      "cell_type": "markdown",
      "source": [
        "####**5. Identify Anomalies:**<br>\n",
        "A threshold is established to classify instances as anomalies. Points with scores above this threshold are considered outliers."
      ],
      "metadata": {
        "id": "CUCr8SfUUjxT"
      }
    },
    {
      "cell_type": "code",
      "source": [
        "threshold = 0  # Adjust this threshold based on specific requirements\n",
        "anomaly_points = X_test[y_scores > threshold]\n"
      ],
      "metadata": {
        "id": "ovJNfDN4UvB_"
      },
      "execution_count": null,
      "outputs": []
    },
    {
      "cell_type": "markdown",
      "source": [
        "####**6. Visualization:**\n",
        "Finally, the results are visualized using a scatter plot. Normal points and detected outliers are plotted in different colors to clearly show the anomalies."
      ],
      "metadata": {
        "id": "BWLjBXoiUx3I"
      }
    },
    {
      "cell_type": "code",
      "source": [
        "# Plotting all points\n",
        "plt.scatter(X_test[:, 0], X_test[:, 1], label='All Points', alpha=0.7)\n",
        "\n",
        "# Plotting outliers in a different color\n",
        "plt.scatter(anomaly_points[:, 0], anomaly_points[:, 1], label='Outliers', color='red')\n",
        "\n",
        "plt.title(\"Anomaly Detection using Isolation Forest\")\n",
        "plt.xlabel(\"Feature 1\")\n",
        "plt.ylabel(\"Feature 2\")\n",
        "plt.legend()\n",
        "plt.show()\n"
      ],
      "metadata": {
        "colab": {
          "base_uri": "https://localhost:8080/",
          "height": 472
        },
        "id": "-HxhpAAgU6dh",
        "outputId": "b92f5a34-df61-47ae-bca9-23d91cee593c"
      },
      "execution_count": null,
      "outputs": [
        {
          "output_type": "display_data",
          "data": {
            "text/plain": [
              "<Figure size 640x480 with 1 Axes>"
            ],
            "image/png": "[encoded data removed]"
          },
          "metadata": {}
        }
      ]
    }
  ]
}