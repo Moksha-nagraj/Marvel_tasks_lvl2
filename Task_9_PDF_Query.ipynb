{
  "nbformat": 4,
  "nbformat_minor": 0,
  "metadata": {
    "colab": {
      "provenance": [],
      "include_colab_link": true
    },
    "kernelspec": {
      "name": "python3",
      "display_name": "Python 3"
    },
    "language_info": {
      "name": "python"
    }
  },
  "cells": [
    {
      "cell_type": "markdown",
      "metadata": {
        "id": "view-in-github",
        "colab_type": "text"
      },
      "source": [
        "<a href=\"https://colab.research.google.com/github/Moksha-nagraj/Marvel_tasks_lvl2/blob/main/Task_9_PDF_Query.ipynb\" target=\"_parent\"><img src=\"https://colab.research.google.com/assets/colab-badge.svg\" alt=\"Open In Colab\"/></a>"
      ]
    },
    {
      "cell_type": "code",
      "source": [
        "from google.colab import drive\n",
        "drive.mount('/content/drive')\n",
        "\n",
        "!pip install PyPDF2 transformers\n",
        "\n",
        "import PyPDF2\n",
        "\n",
        "def extract_pdf_text(pdf_path):\n",
        "    with open(pdf_path, 'rb') as file:\n",
        "        reader = PyPDF2.PdfReader(file)\n",
        "        text = ''\n",
        "        for page in reader.pages:\n",
        "            text += page.extract_text()\n",
        "    return text\n",
        "\n",
        "pdf_path = 'Book-3 Dr. Sujatha.pdf'\n",
        "pdf_content = extract_pdf_text(pdf_path)\n",
        "\n",
        "from transformers import pipeline\n",
        "nlp_model = pipeline(\"text-generation\", model=\"EleutherAI/gpt-neo-125M\")\n",
        "\n",
        "def query_pdf(query, pdf_content, max_length=1500):\n",
        "    truncated_content = pdf_content[:max_length]\n",
        "    prompt = f\"Given the following PDF content:\\n\\n{truncated_content}\\n\\nAnswer this query briefly: {query}\"\n",
        "\n",
        "    result = nlp_model(prompt, max_new_tokens=50, truncation=True, pad_token_id=50256)\n",
        "\n",
        "    return result[0]['generated_text']\n",
        "\n",
        "def delete_line(text, line_number):\n",
        "    lines = text.split('\\n')\n",
        "    if 0 <= line_number < len(lines):\n",
        "        lines.pop(line_number)\n",
        "    return '\\n'.join(lines)\n",
        "\n",
        "def count_word_occurrences(text, word):\n",
        "    word_count = text.lower().split().count(word.lower())\n",
        "    return word_count\n",
        "\n",
        "def extract_section_by_keyword(text, keyword):\n",
        "    lines = text.split('\\n')\n",
        "    relevant_lines = [line for line in lines if keyword.lower() in line.lower()]\n",
        "    return '\\n'.join(relevant_lines)\n",
        "\n",
        "response = query_pdf(\"Explain the concept of Value Education.\", pdf_content)\n",
        "print(\"Query Response:\", response)"
      ],
      "metadata": {
        "colab": {
          "base_uri": "https://localhost:8080/"
        },
        "id": "1fXjqpc-wGXQ",
        "outputId": "df688beb-7bee-446b-f436-16f18af0ba70"
      },
      "execution_count": null,
      "outputs": [
        {
          "output_type": "stream",
          "name": "stdout",
          "text": [
            "Query Response: Given the following PDF content:\n",
            "\n",
            " 1 UNIT-1  \n",
            "Explain the concept of Value Education  \n",
            "Value education refers to the process of inculcatin g core values, principles, and ethical \n",
            "standards in individuals to help them develop a str ong character and make responsible \n",
            "choices in their lives. It is an integral part of e ducation that goes beyond academic \n",
            "knowledge and focuses on shaping a person’s attitud es, beliefs, and behavior. The aim of \n",
            "value education is to foster the holistic developme nt of individuals, equipping them with \n",
            "the tools to navigate ethical dilemmas, contribute positively to society, and lead \n",
            "meaningful lives. \n",
            "Key components of value education include: \n",
            "Inculcation of Values:  Identification of fundamental values such as hones ty, integrity, \n",
            "responsibility, empathy, respect, tolerance, and co mpassion and emphasizing the \n",
            "importance of moral and ethical principles in decis ion-making. \n",
            "Character Development:  Building a strong character based on virtues and e thical \n",
            "standards. Encouraging qualities like perseverance,  humility, courage, and accountability. \n",
            "Social and Civic Responsibilities:  Promoting a sense of social responsibility and \n",
            "encouraging individuals to contribute to the welfar e of society and developing an \n",
            "understanding of civic duties and the importance of  active citizenship. \n",
            "Cultural and Environmental Sensitivity:  Fostering an appreciation for diverse cultures, \n",
            "beliefs, and perspectives and instilling a sense of  responsibility towards the environment \n",
            "and sustai\n",
            "\n",
            "Answer this query briefly: Explain the concept of Value Education. \n",
            "\n",
            "1 UNIT-1  \n",
            "Explain the concept of Value Education. \n",
            "2 UNIT-1  \n",
            "Explain the concept of Value Education. \n",
            "3 UNIT-1  \n",
            "Explain the\n"
          ]
        }
      ]
    }
  ]
}