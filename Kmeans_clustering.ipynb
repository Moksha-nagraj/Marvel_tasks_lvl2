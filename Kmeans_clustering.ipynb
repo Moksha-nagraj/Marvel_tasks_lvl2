{
  "nbformat": 4,
  "nbformat_minor": 0,
  "metadata": {
    "colab": {
      "provenance": [],
      "authorship_tag": "ABX9TyM4UKCkNwP7CDa7Igs18hTS",
      "include_colab_link": true
    },
    "kernelspec": {
      "name": "python3",
      "display_name": "Python 3"
    },
    "language_info": {
      "name": "python"
    }
  },
  "cells": [
    {
      "cell_type": "markdown",
      "metadata": {
        "id": "view-in-github",
        "colab_type": "text"
      },
      "source": [
        "<a href=\"https://colab.research.google.com/github/Moksha-nagraj/Marvel_tasks_lvl2/blob/main/Kmeans_clustering.ipynb\" target=\"_parent\"><img src=\"https://colab.research.google.com/assets/colab-badge.svg\" alt=\"Open In Colab\"/></a>"
      ]
    },
    {
      "cell_type": "markdown",
      "source": [
        "##**KMeans Clustering**\n",
        "KMeans is an unsupervised learning algorithm used to group similar data points into clusters. It works by finding a predefined number of clusters (denoted as k) in the dataset, identifying centroids, and iteratively adjusting them to minimize the distance between data points and their respective centroids."
      ],
      "metadata": {
        "id": "hpihB7n0CRhK"
      }
    },
    {
      "cell_type": "markdown",
      "source": [
        "####**1. Import Required Libraries**\n",
        "We begin by importing the necessary libraries and loading the MNIST dataset, which contains 60,000 training images and 10,000 test images of handwritten digits (0-9)."
      ],
      "metadata": {
        "id": "XClFjjCuCgSW"
      }
    },
    {
      "cell_type": "code",
      "source": [
        "from keras.datasets import mnist\n",
        "import matplotlib.pyplot as plt\n",
        "from sklearn.cluster import MiniBatchKMeans\n",
        "import numpy as np\n",
        "from scipy import sparse\n",
        "from sklearn.metrics import accuracy_score\n",
        "\n",
        "(x_train, y_train), (x_test, y_test) = mnist.load_data()"
      ],
      "metadata": {
        "id": "Q8J_sDjwCpIv"
      },
      "execution_count": null,
      "outputs": []
    },
    {
      "cell_type": "markdown",
      "source": [
        "####**2. Check Dataset Shape**\n",
        "Before proceeding, let's check the shape of the training and test datasets:"
      ],
      "metadata": {
        "id": "gVObxeu2CynB"
      }
    },
    {
      "cell_type": "code",
      "source": [
        "print(x_train.shape)\n",
        "print(x_test.shape)\n",
        "print(y_train.shape)\n",
        "print(y_test.shape)"
      ],
      "metadata": {
        "colab": {
          "base_uri": "https://localhost:8080/"
        },
        "id": "gTYsTkAaC3qE",
        "outputId": "b74cd09c-2196-4735-9fe0-31e684b626ff"
      },
      "execution_count": null,
      "outputs": [
        {
          "output_type": "stream",
          "name": "stdout",
          "text": [
            "(60000, 28, 28)\n",
            "(10000, 28, 28)\n",
            "(60000,)\n",
            "(10000,)\n"
          ]
        }
      ]
    },
    {
      "cell_type": "markdown",
      "source": [
        "####**3. Visualize Some MNIST Images**\n",
        "We can display a few images to better understand the dataset."
      ],
      "metadata": {
        "id": "u9ZP_nkrDE1F"
      }
    },
    {
      "cell_type": "code",
      "source": [
        "plt.figure(figsize=(6, 8))\n",
        "indices = np.random.choice(len(x_train), 6, replace=False)\n",
        "\n",
        "for i, idx in enumerate(indices):\n",
        "    plt.subplot(3, 2, i + 1)\n",
        "    plt.imshow(x_train[idx], cmap='inferno')\n",
        "    plt.title(f'Label: {y_train[idx]}')\n",
        "plt.show()\n"
      ],
      "metadata": {
        "colab": {
          "base_uri": "https://localhost:8080/",
          "height": 699
        },
        "id": "QFFSG5IzDOdb",
        "outputId": "ff889d20-be98-4749-b11e-05a09ed9b97c"
      },
      "execution_count": null,
      "outputs": [
        {
          "output_type": "display_data",
          "data": {
            "text/plain": [
              "<Figure size 600x800 with 6 Axes>"
            ],
            "image/png": "[encoded data removed]"
          },
          "metadata": {}
        }
      ]
    },
    {
      "cell_type": "markdown",
      "source": [
        "####**4. Data Preprocessing**\n",
        "**Normalization:**\n",
        "Since the pixel values range from 0 to 255, we normalize the data by dividing by 255.0, bringing all pixel values into the range [0, 1]."
      ],
      "metadata": {
        "id": "3qtzTB5tDVa8"
      }
    },
    {
      "cell_type": "code",
      "source": [
        "x_train = x_train.astype('float32') / 255.0\n",
        "x_test = x_test.astype('float32') / 255.0"
      ],
      "metadata": {
        "id": "pa-P5bReDhWp"
      },
      "execution_count": null,
      "outputs": []
    },
    {
      "cell_type": "markdown",
      "source": [
        "**Reshaping:**\n",
        "We reshape the 28x28 images into 1D arrays (28 * 28 = 784 features per image) for easier processing with the KMeans algorithm."
      ],
      "metadata": {
        "id": "mh2C_kpWDmIZ"
      }
    },
    {
      "cell_type": "code",
      "execution_count": null,
      "metadata": {
        "colab": {
          "base_uri": "https://localhost:8080/"
        },
        "id": "GAygMZWICKPO",
        "outputId": "62299015-ab3b-464e-a2e1-cee6199f8e66"
      },
      "outputs": [
        {
          "output_type": "stream",
          "name": "stdout",
          "text": [
            "(60000, 784)\n",
            "(10000, 784)\n"
          ]
        }
      ],
      "source": [
        "X_train = x_train.reshape(len(x_train), -1)\n",
        "X_test = x_test.reshape(len(x_test), -1)\n",
        "\n",
        "print(X_train.shape)\n",
        "print(X_test.shape)"
      ]
    },
    {
      "cell_type": "markdown",
      "source": [
        "####**5.Building the Model Using MiniBatch KMeans**\n",
        "KMeans is initialized with n_clusters equal to the number of unique labels (10 in the case of MNIST, representing digits 0-9). The MiniBatchKMeans algorithm is used for efficiency."
      ],
      "metadata": {
        "id": "PXOyW_txDvwQ"
      }
    },
    {
      "cell_type": "code",
      "source": [
        "# No. of clusters (digits 0-9)\n",
        "total_clusters = len(np.unique(y_test))\n",
        "\n",
        "# Initialize KMeans model\n",
        "kmeans = MiniBatchKMeans(n_clusters=total_clusters)\n",
        "\n",
        "# Convert training data to sparse format for efficiency\n",
        "X_train_sparse = sparse.csr_matrix(X_train)\n",
        "\n",
        "# Fit KMeans model\n",
        "kmeans.fit(X_train_sparse)\n",
        "\n",
        "# Output cluster labels\n",
        "print(kmeans.labels_)"
      ],
      "metadata": {
        "colab": {
          "base_uri": "https://localhost:8080/"
        },
        "id": "Kqkl6O0RD_tY",
        "outputId": "919df932-3e37-4931-abb7-fd13e1f6e534"
      },
      "execution_count": null,
      "outputs": [
        {
          "output_type": "stream",
          "name": "stdout",
          "text": [
            "[3 9 0 ... 5 4 7]\n"
          ]
        }
      ]
    },
    {
      "cell_type": "markdown",
      "source": [
        "####**6. Mapping Cluster Labels to Actual Digits**\n",
        "The kmeans.labels_ array only indicates the cluster to which each image belongs, but we need to map these clusters to the actual digit labels. The following function achieves this by identifying the most frequent digit in each cluster."
      ],
      "metadata": {
        "id": "TJmeFMJLECXS"
      }
    },
    {
      "cell_type": "code",
      "source": [
        "def retrieve_info(cluster_labels, y_train):\n",
        "    reference_labels = {}\n",
        "    for i in range(len(np.unique(kmeans.labels_))):\n",
        "        index = np.where(cluster_labels == i, 1, 0)\n",
        "        num = np.bincount(y_train[index == 1]).argmax()\n",
        "        reference_labels[i] = num\n",
        "    return reference_labels\n",
        "\n",
        "# Retrieve actual digit labels for each cluster\n",
        "reference_labels = retrieve_info(kmeans.labels_, y_train)\n",
        "print(reference_labels)"
      ],
      "metadata": {
        "colab": {
          "base_uri": "https://localhost:8080/"
        },
        "id": "59GvPfIlEW5B",
        "outputId": "92f5108c-9dbe-4de7-af9f-441bc70c1db0"
      },
      "execution_count": null,
      "outputs": [
        {
          "output_type": "stream",
          "name": "stdout",
          "text": [
            "{0: 6, 1: 1, 2: 7, 3: 3, 4: 6, 5: 9, 6: 0, 7: 1, 8: 9, 9: 0}\n"
          ]
        }
      ]
    },
    {
      "cell_type": "markdown",
      "source": [
        "####**7. Assigning Labels to Each Image**\n",
        "We use the reference_labels dictionary to assign the correct digit label to each image based on the cluster it belongs to."
      ],
      "metadata": {
        "id": "gmR9KoxLEd3N"
      }
    },
    {
      "cell_type": "code",
      "source": [
        "number_labels = np.zeros(len(kmeans.labels_))\n",
        "\n",
        "for i in range(len(kmeans.labels_)):\n",
        "    number_labels[i] = reference_labels[kmeans.labels_[i]]\n",
        "\n",
        "print(number_labels[:20].astype('int'))  # Predicted labels for the first 20 images\n",
        "print(y_train[:20])                      # True labels\n"
      ],
      "metadata": {
        "colab": {
          "base_uri": "https://localhost:8080/"
        },
        "id": "cMjBIM5CEnmO",
        "outputId": "14ec8e65-13bf-475a-c4bb-efc9f18352b3"
      },
      "execution_count": null,
      "outputs": [
        {
          "output_type": "stream",
          "name": "stdout",
          "text": [
            "[3 0 6 1 9 0 1 3 1 9 3 1 3 6 1 7 6 1 6 9]\n",
            "[5 0 4 1 9 2 1 3 1 4 3 5 3 6 1 7 2 8 6 9]\n"
          ]
        }
      ]
    },
    {
      "cell_type": "markdown",
      "source": [
        "####**8. Accuracy Calculation**\n",
        "Finally, we calculate the accuracy of our model by comparing the predicted labels (number_labels) with the true labels (y_train)."
      ],
      "metadata": {
        "id": "awt5OcbyEvOa"
      }
    },
    {
      "cell_type": "code",
      "source": [
        "accuracy = accuracy_score(number_labels, y_train)\n",
        "print(\"Accuracy:\", accuracy)\n"
      ],
      "metadata": {
        "colab": {
          "base_uri": "https://localhost:8080/"
        },
        "id": "-D5ZCOmdE3Um",
        "outputId": "d03a2d2d-6c60-4836-e205-c79b562b25d5"
      },
      "execution_count": null,
      "outputs": [
        {
          "output_type": "stream",
          "name": "stdout",
          "text": [
            "Accuracy: 0.49788333333333334\n"
          ]
        }
      ]
    },
    {
      "cell_type": "markdown",
      "source": [
        "####**9. Optimizing the Algorithm**\n",
        "KMeans optimization can be improved by analyzing:\n",
        "\n",
        "**Inertia:** A measure of how tightly the clusters are packed. Lower inertia indicates better-defined clusters.<br>\n",
        "**Homogeneity:** A measure of how consistent the data points are within a cluster."
      ],
      "metadata": {
        "id": "-cSgrRPVSX9_"
      }
    }
  ]
}