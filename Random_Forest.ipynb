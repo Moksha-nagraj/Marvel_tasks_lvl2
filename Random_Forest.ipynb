{
  "nbformat": 4,
  "nbformat_minor": 0,
  "metadata": {
    "colab": {
      "provenance": [],
      "authorship_tag": "ABX9TyMTHINXc0KTrxDCmw4JShCJ",
      "include_colab_link": true
    },
    "kernelspec": {
      "name": "python3",
      "display_name": "Python 3"
    },
    "language_info": {
      "name": "python"
    }
  },
  "cells": [
    {
      "cell_type": "markdown",
      "metadata": {
        "id": "view-in-github",
        "colab_type": "text"
      },
      "source": [
        "<a href=\"https://colab.research.google.com/github/Moksha-nagraj/Marvel_tasks_lvl2/blob/main/Random_Forest.ipynb\" target=\"_parent\"><img src=\"https://colab.research.google.com/assets/colab-badge.svg\" alt=\"Open In Colab\"/></a>"
      ]
    },
    {
      "cell_type": "markdown",
      "source": [
        "\n",
        "##**Random Forest**\n",
        "\n",
        "Random Forest is an ensemble learning technique that utilizes multiple decision trees for predictive modeling. Here’s how it works:\n",
        "\n",
        "**Multiple Decision Trees:**\n",
        "Several decision trees are trained using different subsets of the dataset.<br>\n",
        "**Bootstrap Sampling:**\n",
        "Each tree is trained on a random sample of the data (with replacement) known as bootstrap sampling.<br>\n",
        "**Random Feature Selection:**\n",
        "For each decision tree, a random subset of features is selected to make splits, ensuring diversity among trees.<br>\n",
        "**Prediction:**\n",
        "When making predictions, each tree outputs a prediction, and the final output is determined by majority voting (for classification) or averaging (for regression).<br>"
      ],
      "metadata": {
        "id": "LrzGZuu715Ef"
      }
    },
    {
      "cell_type": "code",
      "execution_count": null,
      "metadata": {
        "colab": {
          "base_uri": "https://localhost:8080/"
        },
        "id": "8rDCafEn14GU",
        "outputId": "c3e2c78e-8694-4bc3-8000-14d50a8567d6"
      },
      "outputs": [
        {
          "output_type": "stream",
          "name": "stdout",
          "text": [
            "Accuracy: 1.0\n"
          ]
        }
      ],
      "source": [
        "# Importing necessary libraries\n",
        "from sklearn.datasets import load_iris\n",
        "from sklearn.ensemble import RandomForestClassifier\n",
        "from sklearn.model_selection import train_test_split\n",
        "\n",
        "# Load the Iris dataset\n",
        "iris = load_iris()\n",
        "X = iris.data  # Features\n",
        "y = iris.target  # Target labels\n",
        "\n",
        "# Split the data into training and testing sets (70% train, 30% test)\n",
        "X_train, X_test, y_train, y_test = train_test_split(X, y, test_size=0.3, random_state=42)\n",
        "\n",
        "# Create a Random Forest classifier with 20 trees\n",
        "rf_model = RandomForestClassifier(n_estimators=20)\n",
        "\n",
        "# Train the model using the training data\n",
        "rf_model.fit(X_train, y_train)\n",
        "\n",
        "# Make predictions on the test set\n",
        "predictions = rf_model.predict(X_test)\n",
        "\n",
        "# Evaluate the model's accuracy\n",
        "accuracy = rf_model.score(X_test, y_test)\n",
        "print(\"Accuracy:\", accuracy)"
      ]
    }
  ]
}